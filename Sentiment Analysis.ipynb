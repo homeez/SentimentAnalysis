{
  "cells": [
    {
      "cell_type": "code",
      "execution_count": null,
      "id": "4f7825de",
      "metadata": {
        "execution": {
          "iopub.execute_input": "2022-12-16T12:22:20.902175Z",
          "iopub.status.busy": "2022-12-16T12:22:20.901293Z",
          "iopub.status.idle": "2022-12-16T12:22:29.302747Z",
          "shell.execute_reply": "2022-12-16T12:22:29.301399Z"
        },
        "id": "4f7825de",
        "papermill": {
          "duration": 8.418412,
          "end_time": "2022-12-16T12:22:29.306085",
          "exception": false,
          "start_time": "2022-12-16T12:22:20.887673",
          "status": "completed"
        },
        "tags": []
      },
      "outputs": [],
      "source": [
        "#import library\n",
        "import os"
      ]
    },
    {
      "cell_type": "code",
      "source": [
        "# import library for data manipulation\n",
        "import numpy as np\n",
        "import pandas as pd"
      ],
      "metadata": {
        "id": "Ytepm7WMwS_q"
      },
      "id": "Ytepm7WMwS_q",
      "execution_count": null,
      "outputs": []
    },
    {
      "cell_type": "code",
      "source": [
        "# import libraries with visualization tools\n",
        "import matplotlib.pyplot as plt\n",
        "import seaborn as sns\n",
        "%matplotlib inline"
      ],
      "metadata": {
        "id": "I-9Wh6VRwFAO"
      },
      "id": "I-9Wh6VRwFAO",
      "execution_count": null,
      "outputs": []
    },
    {
      "cell_type": "code",
      "source": [
        "# import sklearn for splitting datset into train and test\n",
        "from sklearn.model_selection import train_test_split"
      ],
      "metadata": {
        "id": "AAtMgS2zv4o0"
      },
      "id": "AAtMgS2zv4o0",
      "execution_count": null,
      "outputs": []
    },
    {
      "cell_type": "code",
      "source": [
        "# import TensorFlow libraries\n",
        "from tensorflow.keras.preprocessing.text import Tokenizer\n",
        "from tensorflow.keras.preprocessing.sequence import pad_sequences\n",
        "from tensorflow.keras.models import Sequential\n",
        "from tensorflow.keras.layers import LSTM, Dense, Embedding, Bidirectional\n",
        "from tensorflow.keras.callbacks import EarlyStopping, ModelCheckpoint"
      ],
      "metadata": {
        "id": "fAw9014pvxbb"
      },
      "id": "fAw9014pvxbb",
      "execution_count": null,
      "outputs": []
    },
    {
      "cell_type": "code",
      "source": [
        "# importing text processing libraries\n",
        "import re\n",
        "import nltk\n",
        "from nltk.tokenize import word_tokenize, sent_tokenize\n",
        "from nltk.corpus import stopwords\n",
        "from nltk.stem.wordnet import WordNetLemmatizer\n",
        "nltk.download('stopwords')\n",
        "nltk.download('wordnet')\n",
        "stopwords = set(stopwords.words('english'))"
      ],
      "metadata": {
        "colab": {
          "base_uri": "https://localhost:8080/"
        },
        "id": "U8WdBr0mFR2v",
        "outputId": "4872c9b4-edcd-455f-8d49-6164ad3e9200"
      },
      "id": "U8WdBr0mFR2v",
      "execution_count": null,
      "outputs": [
        {
          "output_type": "stream",
          "name": "stderr",
          "text": [
            "[nltk_data] Downloading package stopwords to /root/nltk_data...\n",
            "[nltk_data]   Unzipping corpora/stopwords.zip.\n",
            "[nltk_data] Downloading package wordnet to /root/nltk_data...\n"
          ]
        }
      ]
    },
    {
      "cell_type": "code",
      "source": [
        "# utils libraries\n",
        "import os\n",
        "from tqdm import tqdm\n",
        "tqdm.pandas()\n",
        "from collections import Counter"
      ],
      "metadata": {
        "id": "zTHOCS4pHRnl"
      },
      "id": "zTHOCS4pHRnl",
      "execution_count": null,
      "outputs": []
    },
    {
      "cell_type": "code",
      "source": [
        "# import IMDB dataset\n",
        "from google.colab import files\n",
        "files.upload()"
      ],
      "metadata": {
        "colab": {
          "base_uri": "https://localhost:8080/",
          "height": 73
        },
        "id": "qtC2Gwjvmux-",
        "outputId": "fd040946-5151-4c0e-e819-8448d028669d"
      },
      "id": "qtC2Gwjvmux-",
      "execution_count": null,
      "outputs": [
        {
          "output_type": "display_data",
          "data": {
            "text/plain": [
              "<IPython.core.display.HTML object>"
            ],
            "text/html": [
              "\n",
              "     <input type=\"file\" id=\"files-fac255d8-fdaa-4c08-8692-e45990082913\" name=\"files[]\" multiple disabled\n",
              "        style=\"border:none\" />\n",
              "     <output id=\"result-fac255d8-fdaa-4c08-8692-e45990082913\">\n",
              "      Upload widget is only available when the cell has been executed in the\n",
              "      current browser session. Please rerun this cell to enable.\n",
              "      </output>\n",
              "      <script>// Copyright 2017 Google LLC\n",
              "//\n",
              "// Licensed under the Apache License, Version 2.0 (the \"License\");\n",
              "// you may not use this file except in compliance with the License.\n",
              "// You may obtain a copy of the License at\n",
              "//\n",
              "//      http://www.apache.org/licenses/LICENSE-2.0\n",
              "//\n",
              "// Unless required by applicable law or agreed to in writing, software\n",
              "// distributed under the License is distributed on an \"AS IS\" BASIS,\n",
              "// WITHOUT WARRANTIES OR CONDITIONS OF ANY KIND, either express or implied.\n",
              "// See the License for the specific language governing permissions and\n",
              "// limitations under the License.\n",
              "\n",
              "/**\n",
              " * @fileoverview Helpers for google.colab Python module.\n",
              " */\n",
              "(function(scope) {\n",
              "function span(text, styleAttributes = {}) {\n",
              "  const element = document.createElement('span');\n",
              "  element.textContent = text;\n",
              "  for (const key of Object.keys(styleAttributes)) {\n",
              "    element.style[key] = styleAttributes[key];\n",
              "  }\n",
              "  return element;\n",
              "}\n",
              "\n",
              "// Max number of bytes which will be uploaded at a time.\n",
              "const MAX_PAYLOAD_SIZE = 100 * 1024;\n",
              "\n",
              "function _uploadFiles(inputId, outputId) {\n",
              "  const steps = uploadFilesStep(inputId, outputId);\n",
              "  const outputElement = document.getElementById(outputId);\n",
              "  // Cache steps on the outputElement to make it available for the next call\n",
              "  // to uploadFilesContinue from Python.\n",
              "  outputElement.steps = steps;\n",
              "\n",
              "  return _uploadFilesContinue(outputId);\n",
              "}\n",
              "\n",
              "// This is roughly an async generator (not supported in the browser yet),\n",
              "// where there are multiple asynchronous steps and the Python side is going\n",
              "// to poll for completion of each step.\n",
              "// This uses a Promise to block the python side on completion of each step,\n",
              "// then passes the result of the previous step as the input to the next step.\n",
              "function _uploadFilesContinue(outputId) {\n",
              "  const outputElement = document.getElementById(outputId);\n",
              "  const steps = outputElement.steps;\n",
              "\n",
              "  const next = steps.next(outputElement.lastPromiseValue);\n",
              "  return Promise.resolve(next.value.promise).then((value) => {\n",
              "    // Cache the last promise value to make it available to the next\n",
              "    // step of the generator.\n",
              "    outputElement.lastPromiseValue = value;\n",
              "    return next.value.response;\n",
              "  });\n",
              "}\n",
              "\n",
              "/**\n",
              " * Generator function which is called between each async step of the upload\n",
              " * process.\n",
              " * @param {string} inputId Element ID of the input file picker element.\n",
              " * @param {string} outputId Element ID of the output display.\n",
              " * @return {!Iterable<!Object>} Iterable of next steps.\n",
              " */\n",
              "function* uploadFilesStep(inputId, outputId) {\n",
              "  const inputElement = document.getElementById(inputId);\n",
              "  inputElement.disabled = false;\n",
              "\n",
              "  const outputElement = document.getElementById(outputId);\n",
              "  outputElement.innerHTML = '';\n",
              "\n",
              "  const pickedPromise = new Promise((resolve) => {\n",
              "    inputElement.addEventListener('change', (e) => {\n",
              "      resolve(e.target.files);\n",
              "    });\n",
              "  });\n",
              "\n",
              "  const cancel = document.createElement('button');\n",
              "  inputElement.parentElement.appendChild(cancel);\n",
              "  cancel.textContent = 'Cancel upload';\n",
              "  const cancelPromise = new Promise((resolve) => {\n",
              "    cancel.onclick = () => {\n",
              "      resolve(null);\n",
              "    };\n",
              "  });\n",
              "\n",
              "  // Wait for the user to pick the files.\n",
              "  const files = yield {\n",
              "    promise: Promise.race([pickedPromise, cancelPromise]),\n",
              "    response: {\n",
              "      action: 'starting',\n",
              "    }\n",
              "  };\n",
              "\n",
              "  cancel.remove();\n",
              "\n",
              "  // Disable the input element since further picks are not allowed.\n",
              "  inputElement.disabled = true;\n",
              "\n",
              "  if (!files) {\n",
              "    return {\n",
              "      response: {\n",
              "        action: 'complete',\n",
              "      }\n",
              "    };\n",
              "  }\n",
              "\n",
              "  for (const file of files) {\n",
              "    const li = document.createElement('li');\n",
              "    li.append(span(file.name, {fontWeight: 'bold'}));\n",
              "    li.append(span(\n",
              "        `(${file.type || 'n/a'}) - ${file.size} bytes, ` +\n",
              "        `last modified: ${\n",
              "            file.lastModifiedDate ? file.lastModifiedDate.toLocaleDateString() :\n",
              "                                    'n/a'} - `));\n",
              "    const percent = span('0% done');\n",
              "    li.appendChild(percent);\n",
              "\n",
              "    outputElement.appendChild(li);\n",
              "\n",
              "    const fileDataPromise = new Promise((resolve) => {\n",
              "      const reader = new FileReader();\n",
              "      reader.onload = (e) => {\n",
              "        resolve(e.target.result);\n",
              "      };\n",
              "      reader.readAsArrayBuffer(file);\n",
              "    });\n",
              "    // Wait for the data to be ready.\n",
              "    let fileData = yield {\n",
              "      promise: fileDataPromise,\n",
              "      response: {\n",
              "        action: 'continue',\n",
              "      }\n",
              "    };\n",
              "\n",
              "    // Use a chunked sending to avoid message size limits. See b/62115660.\n",
              "    let position = 0;\n",
              "    do {\n",
              "      const length = Math.min(fileData.byteLength - position, MAX_PAYLOAD_SIZE);\n",
              "      const chunk = new Uint8Array(fileData, position, length);\n",
              "      position += length;\n",
              "\n",
              "      const base64 = btoa(String.fromCharCode.apply(null, chunk));\n",
              "      yield {\n",
              "        response: {\n",
              "          action: 'append',\n",
              "          file: file.name,\n",
              "          data: base64,\n",
              "        },\n",
              "      };\n",
              "\n",
              "      let percentDone = fileData.byteLength === 0 ?\n",
              "          100 :\n",
              "          Math.round((position / fileData.byteLength) * 100);\n",
              "      percent.textContent = `${percentDone}% done`;\n",
              "\n",
              "    } while (position < fileData.byteLength);\n",
              "  }\n",
              "\n",
              "  // All done.\n",
              "  yield {\n",
              "    response: {\n",
              "      action: 'complete',\n",
              "    }\n",
              "  };\n",
              "}\n",
              "\n",
              "scope.google = scope.google || {};\n",
              "scope.google.colab = scope.google.colab || {};\n",
              "scope.google.colab._files = {\n",
              "  _uploadFiles,\n",
              "  _uploadFilesContinue,\n",
              "};\n",
              "})(self);\n",
              "</script> "
            ]
          },
          "metadata": {}
        },
        {
          "output_type": "stream",
          "name": "stdout",
          "text": [
            "Saving IMDB Dataset.csv to IMDB Dataset.csv\n"
          ]
        }
      ]
    },
    {
      "cell_type": "code",
      "execution_count": null,
      "id": "07b9e736",
      "metadata": {
        "execution": {
          "iopub.execute_input": "2022-12-16T12:22:29.346173Z",
          "iopub.status.busy": "2022-12-16T12:22:29.344795Z",
          "iopub.status.idle": "2022-12-16T12:22:30.762398Z",
          "shell.execute_reply": "2022-12-16T12:22:30.761197Z"
        },
        "id": "07b9e736",
        "outputId": "ec8e67ba-8b9f-43e4-9b30-635586d92c94",
        "papermill": {
          "duration": 1.430918,
          "end_time": "2022-12-16T12:22:30.765115",
          "exception": false,
          "start_time": "2022-12-16T12:22:29.334197",
          "status": "completed"
        },
        "tags": [],
        "colab": {
          "base_uri": "https://localhost:8080/",
          "height": 206
        }
      },
      "outputs": [
        {
          "output_type": "execute_result",
          "data": {
            "text/plain": [
              "                                              review sentiment\n",
              "0  One of the other reviewers has mentioned that ...  positive\n",
              "1  A wonderful little production. <br /><br />The...  positive\n",
              "2  I thought this was a wonderful way to spend ti...  positive\n",
              "3  Basically there's a family where a little boy ...  negative\n",
              "4  Petter Mattei's \"Love in the Time of Money\" is...  positive"
            ],
            "text/html": [
              "\n",
              "  <div id=\"df-d4af93df-7d57-4737-bf34-5486821704f0\">\n",
              "    <div class=\"colab-df-container\">\n",
              "      <div>\n",
              "<style scoped>\n",
              "    .dataframe tbody tr th:only-of-type {\n",
              "        vertical-align: middle;\n",
              "    }\n",
              "\n",
              "    .dataframe tbody tr th {\n",
              "        vertical-align: top;\n",
              "    }\n",
              "\n",
              "    .dataframe thead th {\n",
              "        text-align: right;\n",
              "    }\n",
              "</style>\n",
              "<table border=\"1\" class=\"dataframe\">\n",
              "  <thead>\n",
              "    <tr style=\"text-align: right;\">\n",
              "      <th></th>\n",
              "      <th>review</th>\n",
              "      <th>sentiment</th>\n",
              "    </tr>\n",
              "  </thead>\n",
              "  <tbody>\n",
              "    <tr>\n",
              "      <th>0</th>\n",
              "      <td>One of the other reviewers has mentioned that ...</td>\n",
              "      <td>positive</td>\n",
              "    </tr>\n",
              "    <tr>\n",
              "      <th>1</th>\n",
              "      <td>A wonderful little production. &lt;br /&gt;&lt;br /&gt;The...</td>\n",
              "      <td>positive</td>\n",
              "    </tr>\n",
              "    <tr>\n",
              "      <th>2</th>\n",
              "      <td>I thought this was a wonderful way to spend ti...</td>\n",
              "      <td>positive</td>\n",
              "    </tr>\n",
              "    <tr>\n",
              "      <th>3</th>\n",
              "      <td>Basically there's a family where a little boy ...</td>\n",
              "      <td>negative</td>\n",
              "    </tr>\n",
              "    <tr>\n",
              "      <th>4</th>\n",
              "      <td>Petter Mattei's \"Love in the Time of Money\" is...</td>\n",
              "      <td>positive</td>\n",
              "    </tr>\n",
              "  </tbody>\n",
              "</table>\n",
              "</div>\n",
              "      <button class=\"colab-df-convert\" onclick=\"convertToInteractive('df-d4af93df-7d57-4737-bf34-5486821704f0')\"\n",
              "              title=\"Convert this dataframe to an interactive table.\"\n",
              "              style=\"display:none;\">\n",
              "        \n",
              "  <svg xmlns=\"http://www.w3.org/2000/svg\" height=\"24px\"viewBox=\"0 0 24 24\"\n",
              "       width=\"24px\">\n",
              "    <path d=\"M0 0h24v24H0V0z\" fill=\"none\"/>\n",
              "    <path d=\"M18.56 5.44l.94 2.06.94-2.06 2.06-.94-2.06-.94-.94-2.06-.94 2.06-2.06.94zm-11 1L8.5 8.5l.94-2.06 2.06-.94-2.06-.94L8.5 2.5l-.94 2.06-2.06.94zm10 10l.94 2.06.94-2.06 2.06-.94-2.06-.94-.94-2.06-.94 2.06-2.06.94z\"/><path d=\"M17.41 7.96l-1.37-1.37c-.4-.4-.92-.59-1.43-.59-.52 0-1.04.2-1.43.59L10.3 9.45l-7.72 7.72c-.78.78-.78 2.05 0 2.83L4 21.41c.39.39.9.59 1.41.59.51 0 1.02-.2 1.41-.59l7.78-7.78 2.81-2.81c.8-.78.8-2.07 0-2.86zM5.41 20L4 18.59l7.72-7.72 1.47 1.35L5.41 20z\"/>\n",
              "  </svg>\n",
              "      </button>\n",
              "      \n",
              "  <style>\n",
              "    .colab-df-container {\n",
              "      display:flex;\n",
              "      flex-wrap:wrap;\n",
              "      gap: 12px;\n",
              "    }\n",
              "\n",
              "    .colab-df-convert {\n",
              "      background-color: #E8F0FE;\n",
              "      border: none;\n",
              "      border-radius: 50%;\n",
              "      cursor: pointer;\n",
              "      display: none;\n",
              "      fill: #1967D2;\n",
              "      height: 32px;\n",
              "      padding: 0 0 0 0;\n",
              "      width: 32px;\n",
              "    }\n",
              "\n",
              "    .colab-df-convert:hover {\n",
              "      background-color: #E2EBFA;\n",
              "      box-shadow: 0px 1px 2px rgba(60, 64, 67, 0.3), 0px 1px 3px 1px rgba(60, 64, 67, 0.15);\n",
              "      fill: #174EA6;\n",
              "    }\n",
              "\n",
              "    [theme=dark] .colab-df-convert {\n",
              "      background-color: #3B4455;\n",
              "      fill: #D2E3FC;\n",
              "    }\n",
              "\n",
              "    [theme=dark] .colab-df-convert:hover {\n",
              "      background-color: #434B5C;\n",
              "      box-shadow: 0px 1px 3px 1px rgba(0, 0, 0, 0.15);\n",
              "      filter: drop-shadow(0px 1px 2px rgba(0, 0, 0, 0.3));\n",
              "      fill: #FFFFFF;\n",
              "    }\n",
              "  </style>\n",
              "\n",
              "      <script>\n",
              "        const buttonEl =\n",
              "          document.querySelector('#df-d4af93df-7d57-4737-bf34-5486821704f0 button.colab-df-convert');\n",
              "        buttonEl.style.display =\n",
              "          google.colab.kernel.accessAllowed ? 'block' : 'none';\n",
              "\n",
              "        async function convertToInteractive(key) {\n",
              "          const element = document.querySelector('#df-d4af93df-7d57-4737-bf34-5486821704f0');\n",
              "          const dataTable =\n",
              "            await google.colab.kernel.invokeFunction('convertToInteractive',\n",
              "                                                     [key], {});\n",
              "          if (!dataTable) return;\n",
              "\n",
              "          const docLinkHtml = 'Like what you see? Visit the ' +\n",
              "            '<a target=\"_blank\" href=https://colab.research.google.com/notebooks/data_table.ipynb>data table notebook</a>'\n",
              "            + ' to learn more about interactive tables.';\n",
              "          element.innerHTML = '';\n",
              "          dataTable['output_type'] = 'display_data';\n",
              "          await google.colab.output.renderOutput(dataTable, element);\n",
              "          const docLink = document.createElement('div');\n",
              "          docLink.innerHTML = docLinkHtml;\n",
              "          element.appendChild(docLink);\n",
              "        }\n",
              "      </script>\n",
              "    </div>\n",
              "  </div>\n",
              "  "
            ]
          },
          "metadata": {},
          "execution_count": 9
        }
      ],
      "source": [
        "df = pd.read_csv('IMDB Dataset.csv')\n",
        "df.head()"
      ]
    },
    {
      "cell_type": "markdown",
      "source": [
        "# DATA CLEANING"
      ],
      "metadata": {
        "id": "8eEF7sBrLYvC"
      },
      "id": "8eEF7sBrLYvC"
    },
    {
      "cell_type": "markdown",
      "source": [
        "Here we will define text cleaning pipeline which consist of several methods below:\n",
        "1. Remove links\n",
        "2. Remove punctuations, but here we exclude dot (.), comma (,), hyphen (-), exclamation (!), and question mark(?).\n",
        "3. Remove HTML tags\n",
        "4. Space between punctuation, because we want to treat some excluded punctuations as individual token\n",
        "5. Remove numbers\n",
        "6. Remove additional whitespaces\n",
        "7. Remove nonascii characters\n",
        "8. Remove emoji\n",
        "9. Label encoding"
      ],
      "metadata": {
        "id": "u3iNbQPHLWQw"
      },
      "id": "u3iNbQPHLWQw"
    },
    {
      "cell_type": "code",
      "source": [
        "# text cleaning\n",
        "\n",
        "def rm_link(text):\n",
        "    return re.sub(r'https?://\\S+|www\\.\\S+', '', text)\n",
        "\n",
        "# handle case like \"shut up okay?Im only 10 years old\"\n",
        "# become \"shut up okay Im only 10 years old\"\n",
        "def rm_punct2(text):\n",
        "    # return re.sub(r'[\\!\\\"\\#\\$\\%\\&\\'\\(\\)\\*\\+\\,\\-\\.\\/\\:\\;\\<\\=\\>\\?\\@\\[\\\\\\]\\^\\_\\`\\{\\|\\}\\~]', ' ', text)\n",
        "    return re.sub(r'[\\\"\\#\\$\\%\\&\\'\\(\\)\\*\\+\\/\\:\\;\\<\\=\\>\\@\\[\\\\\\]\\^\\_\\`\\{\\|\\}\\~]', ' ', text)\n",
        "\n",
        "def rm_html(text):\n",
        "    return re.sub(r'<[^>]+>', '', text)\n",
        "\n",
        "def space_bt_punct(text):\n",
        "    pattern = r'([.,!?-])'\n",
        "    s = re.sub(pattern, r' \\1 ', text)     # add whitespaces between punctuation\n",
        "    s = re.sub(r'\\s{2,}', ' ', s)        # remove double whitespaces\n",
        "    return s\n",
        "\n",
        "def rm_number(text):\n",
        "    return re.sub(r'\\d+', '', text)\n",
        "\n",
        "def rm_whitespaces(text):\n",
        "    return re.sub(r' +', ' ', text)\n",
        "\n",
        "def rm_nonascii(text):\n",
        "    return re.sub(r'[^\\x00-\\x7f]', r'', text)\n",
        "\n",
        "def rm_emoji(text):\n",
        "    emojis = re.compile(\n",
        "        '['\n",
        "        u'\\U0001F600-\\U0001F64F'  # emoticons\n",
        "        u'\\U0001F300-\\U0001F5FF'  # symbols & pictographs\n",
        "        u'\\U0001F680-\\U0001F6FF'  # transport & map symbols\n",
        "        u'\\U0001F1E0-\\U0001F1FF'  # flags (iOS)\n",
        "        u'\\U00002702-\\U000027B0'\n",
        "        u'\\U000024C2-\\U0001F251'\n",
        "        ']+',\n",
        "        flags=re.UNICODE\n",
        "    )\n",
        "    return emojis.sub(r'', text)\n",
        "\n",
        "def spell_correction(text):\n",
        "    return re.sub(r'(.)\\1+', r'\\1\\1', text)\n",
        "\n",
        "def clean_pipeline(text):\n",
        "    no_link = rm_link(text)\n",
        "    no_html = rm_html(no_link)\n",
        "    space_punct = space_bt_punct(no_html)\n",
        "    no_punct = rm_punct2(space_punct)\n",
        "    no_number = rm_number(no_punct)\n",
        "    no_whitespaces = rm_whitespaces(no_number)\n",
        "    no_nonasci = rm_nonascii(no_whitespaces)\n",
        "    no_emoji = rm_emoji(no_nonasci)\n",
        "    spell_corrected = spell_correction(no_emoji)\n",
        "    return spell_corrected"
      ],
      "metadata": {
        "id": "NxCw9GTSKsSn"
      },
      "id": "NxCw9GTSKsSn",
      "execution_count": null,
      "outputs": []
    },
    {
      "cell_type": "code",
      "source": [
        "df['clean_review'] = df['review'].progress_apply(clean_pipeline)"
      ],
      "metadata": {
        "colab": {
          "base_uri": "https://localhost:8080/"
        },
        "id": "CRRz_2AQLBlb",
        "outputId": "b46926e7-0a74-421c-939b-9649cbd5aa65"
      },
      "id": "CRRz_2AQLBlb",
      "execution_count": null,
      "outputs": [
        {
          "output_type": "stream",
          "name": "stderr",
          "text": [
            "100%|██████████| 50000/50000 [00:18<00:00, 2739.35it/s]\n"
          ]
        }
      ]
    },
    {
      "cell_type": "code",
      "source": [
        "# creating a dummy variable for the sentiment column\n",
        "df['label'] = np.where(df['sentiment'] == 'positive', 1, 0)"
      ],
      "metadata": {
        "id": "3x36O5_RMGhK"
      },
      "id": "3x36O5_RMGhK",
      "execution_count": null,
      "outputs": []
    },
    {
      "cell_type": "code",
      "source": [
        "df.head()"
      ],
      "metadata": {
        "colab": {
          "base_uri": "https://localhost:8080/",
          "height": 206
        },
        "id": "u37kFOYeLwqM",
        "outputId": "4de5ce9d-1682-47a4-9d54-045fdb34aef7"
      },
      "id": "u37kFOYeLwqM",
      "execution_count": null,
      "outputs": [
        {
          "output_type": "execute_result",
          "data": {
            "text/plain": [
              "                                              review sentiment  \\\n",
              "0  One of the other reviewers has mentioned that ...  positive   \n",
              "1  A wonderful little production. <br /><br />The...  positive   \n",
              "2  I thought this was a wonderful way to spend ti...  positive   \n",
              "3  Basically there's a family where a little boy ...  negative   \n",
              "4  Petter Mattei's \"Love in the Time of Money\" is...  positive   \n",
              "\n",
              "                                        clean_review  label  token_length  \n",
              "0  One of the other reviewers has mentioned that ...      1           307  \n",
              "1  A wonderful little production . The filming te...      1           162  \n",
              "2  I thought this was a wonderful way to spend ti...      1           166  \n",
              "3  Basically there s a family where a little boy ...      0           138  \n",
              "4  Petter Mattei s Love in the Time of Money is a...      1           230  "
            ],
            "text/html": [
              "\n",
              "  <div id=\"df-ed2ae899-569b-4be4-b4ec-ff7cef5e81d3\">\n",
              "    <div class=\"colab-df-container\">\n",
              "      <div>\n",
              "<style scoped>\n",
              "    .dataframe tbody tr th:only-of-type {\n",
              "        vertical-align: middle;\n",
              "    }\n",
              "\n",
              "    .dataframe tbody tr th {\n",
              "        vertical-align: top;\n",
              "    }\n",
              "\n",
              "    .dataframe thead th {\n",
              "        text-align: right;\n",
              "    }\n",
              "</style>\n",
              "<table border=\"1\" class=\"dataframe\">\n",
              "  <thead>\n",
              "    <tr style=\"text-align: right;\">\n",
              "      <th></th>\n",
              "      <th>review</th>\n",
              "      <th>sentiment</th>\n",
              "      <th>clean_review</th>\n",
              "      <th>label</th>\n",
              "      <th>token_length</th>\n",
              "    </tr>\n",
              "  </thead>\n",
              "  <tbody>\n",
              "    <tr>\n",
              "      <th>0</th>\n",
              "      <td>One of the other reviewers has mentioned that ...</td>\n",
              "      <td>positive</td>\n",
              "      <td>One of the other reviewers has mentioned that ...</td>\n",
              "      <td>1</td>\n",
              "      <td>307</td>\n",
              "    </tr>\n",
              "    <tr>\n",
              "      <th>1</th>\n",
              "      <td>A wonderful little production. &lt;br /&gt;&lt;br /&gt;The...</td>\n",
              "      <td>positive</td>\n",
              "      <td>A wonderful little production . The filming te...</td>\n",
              "      <td>1</td>\n",
              "      <td>162</td>\n",
              "    </tr>\n",
              "    <tr>\n",
              "      <th>2</th>\n",
              "      <td>I thought this was a wonderful way to spend ti...</td>\n",
              "      <td>positive</td>\n",
              "      <td>I thought this was a wonderful way to spend ti...</td>\n",
              "      <td>1</td>\n",
              "      <td>166</td>\n",
              "    </tr>\n",
              "    <tr>\n",
              "      <th>3</th>\n",
              "      <td>Basically there's a family where a little boy ...</td>\n",
              "      <td>negative</td>\n",
              "      <td>Basically there s a family where a little boy ...</td>\n",
              "      <td>0</td>\n",
              "      <td>138</td>\n",
              "    </tr>\n",
              "    <tr>\n",
              "      <th>4</th>\n",
              "      <td>Petter Mattei's \"Love in the Time of Money\" is...</td>\n",
              "      <td>positive</td>\n",
              "      <td>Petter Mattei s Love in the Time of Money is a...</td>\n",
              "      <td>1</td>\n",
              "      <td>230</td>\n",
              "    </tr>\n",
              "  </tbody>\n",
              "</table>\n",
              "</div>\n",
              "      <button class=\"colab-df-convert\" onclick=\"convertToInteractive('df-ed2ae899-569b-4be4-b4ec-ff7cef5e81d3')\"\n",
              "              title=\"Convert this dataframe to an interactive table.\"\n",
              "              style=\"display:none;\">\n",
              "        \n",
              "  <svg xmlns=\"http://www.w3.org/2000/svg\" height=\"24px\"viewBox=\"0 0 24 24\"\n",
              "       width=\"24px\">\n",
              "    <path d=\"M0 0h24v24H0V0z\" fill=\"none\"/>\n",
              "    <path d=\"M18.56 5.44l.94 2.06.94-2.06 2.06-.94-2.06-.94-.94-2.06-.94 2.06-2.06.94zm-11 1L8.5 8.5l.94-2.06 2.06-.94-2.06-.94L8.5 2.5l-.94 2.06-2.06.94zm10 10l.94 2.06.94-2.06 2.06-.94-2.06-.94-.94-2.06-.94 2.06-2.06.94z\"/><path d=\"M17.41 7.96l-1.37-1.37c-.4-.4-.92-.59-1.43-.59-.52 0-1.04.2-1.43.59L10.3 9.45l-7.72 7.72c-.78.78-.78 2.05 0 2.83L4 21.41c.39.39.9.59 1.41.59.51 0 1.02-.2 1.41-.59l7.78-7.78 2.81-2.81c.8-.78.8-2.07 0-2.86zM5.41 20L4 18.59l7.72-7.72 1.47 1.35L5.41 20z\"/>\n",
              "  </svg>\n",
              "      </button>\n",
              "      \n",
              "  <style>\n",
              "    .colab-df-container {\n",
              "      display:flex;\n",
              "      flex-wrap:wrap;\n",
              "      gap: 12px;\n",
              "    }\n",
              "\n",
              "    .colab-df-convert {\n",
              "      background-color: #E8F0FE;\n",
              "      border: none;\n",
              "      border-radius: 50%;\n",
              "      cursor: pointer;\n",
              "      display: none;\n",
              "      fill: #1967D2;\n",
              "      height: 32px;\n",
              "      padding: 0 0 0 0;\n",
              "      width: 32px;\n",
              "    }\n",
              "\n",
              "    .colab-df-convert:hover {\n",
              "      background-color: #E2EBFA;\n",
              "      box-shadow: 0px 1px 2px rgba(60, 64, 67, 0.3), 0px 1px 3px 1px rgba(60, 64, 67, 0.15);\n",
              "      fill: #174EA6;\n",
              "    }\n",
              "\n",
              "    [theme=dark] .colab-df-convert {\n",
              "      background-color: #3B4455;\n",
              "      fill: #D2E3FC;\n",
              "    }\n",
              "\n",
              "    [theme=dark] .colab-df-convert:hover {\n",
              "      background-color: #434B5C;\n",
              "      box-shadow: 0px 1px 3px 1px rgba(0, 0, 0, 0.15);\n",
              "      filter: drop-shadow(0px 1px 2px rgba(0, 0, 0, 0.3));\n",
              "      fill: #FFFFFF;\n",
              "    }\n",
              "  </style>\n",
              "\n",
              "      <script>\n",
              "        const buttonEl =\n",
              "          document.querySelector('#df-ed2ae899-569b-4be4-b4ec-ff7cef5e81d3 button.colab-df-convert');\n",
              "        buttonEl.style.display =\n",
              "          google.colab.kernel.accessAllowed ? 'block' : 'none';\n",
              "\n",
              "        async function convertToInteractive(key) {\n",
              "          const element = document.querySelector('#df-ed2ae899-569b-4be4-b4ec-ff7cef5e81d3');\n",
              "          const dataTable =\n",
              "            await google.colab.kernel.invokeFunction('convertToInteractive',\n",
              "                                                     [key], {});\n",
              "          if (!dataTable) return;\n",
              "\n",
              "          const docLinkHtml = 'Like what you see? Visit the ' +\n",
              "            '<a target=\"_blank\" href=https://colab.research.google.com/notebooks/data_table.ipynb>data table notebook</a>'\n",
              "            + ' to learn more about interactive tables.';\n",
              "          element.innerHTML = '';\n",
              "          dataTable['output_type'] = 'display_data';\n",
              "          await google.colab.output.renderOutput(dataTable, element);\n",
              "          const docLink = document.createElement('div');\n",
              "          docLink.innerHTML = docLinkHtml;\n",
              "          element.appendChild(docLink);\n",
              "        }\n",
              "      </script>\n",
              "    </div>\n",
              "  </div>\n",
              "  "
            ]
          },
          "metadata": {},
          "execution_count": 26
        }
      ]
    },
    {
      "cell_type": "markdown",
      "source": [
        "## EDA\n",
        "1. Transform label into number\n",
        "2. View data distribution (imbalance or not)\n",
        "3. View token length distribution\n",
        "4. Preview on some positive and negative reviews"
      ],
      "metadata": {
        "id": "wYJNPoRs6ych"
      },
      "id": "wYJNPoRs6ych"
    },
    {
      "cell_type": "markdown",
      "source": [
        "The sentiment column must be transformed into numeric values so that \"positive\" sentiment is taken as 1 and \"negative\" sentiment is taken as 0, in order to create a binary classification model. Using np.where(), I can quickly do this by changing the DataFrame column in pandas:"
      ],
      "metadata": {
        "id": "Hai7YIXqoCOe"
      },
      "id": "Hai7YIXqoCOe"
    },
    {
      "cell_type": "markdown",
      "source": [
        "Let's see if we have an imbalance case by looking at total dataset of each positive and negative classes\n",
        "\n"
      ],
      "metadata": {
        "id": "JJR2BwBr8Wl7"
      },
      "id": "JJR2BwBr8Wl7"
    },
    {
      "cell_type": "code",
      "source": [
        "df.sentiment.value_counts()"
      ],
      "metadata": {
        "colab": {
          "base_uri": "https://localhost:8080/"
        },
        "id": "Q5QKmE3r8LdZ",
        "outputId": "b2832779-3c03-4a0a-aa5f-abd070fc1fae"
      },
      "id": "Q5QKmE3r8LdZ",
      "execution_count": null,
      "outputs": [
        {
          "output_type": "execute_result",
          "data": {
            "text/plain": [
              "positive    25000\n",
              "negative    25000\n",
              "Name: sentiment, dtype: int64"
            ]
          },
          "metadata": {},
          "execution_count": 27
        }
      ]
    },
    {
      "cell_type": "code",
      "source": [
        "sns.countplot(x=df[\"sentiment\"]);"
      ],
      "metadata": {
        "colab": {
          "base_uri": "https://localhost:8080/",
          "height": 279
        },
        "id": "X_oK_lfX9-s-",
        "outputId": "a9c963ac-c56b-4fa1-b7d8-feba3605e7dd"
      },
      "id": "X_oK_lfX9-s-",
      "execution_count": null,
      "outputs": [
        {
          "output_type": "display_data",
          "data": {
            "text/plain": [
              "<Figure size 432x288 with 1 Axes>"
            ],
            "image/png": "[encoded data removed]"
          },
          "metadata": {
            "needs_background": "light"
          }
        }
      ]
    },
    {
      "cell_type": "markdown",
      "source": [
        "Seems we have a good enough dataset. Here we got balance dataset with 25K for each labels.\n"
      ],
      "metadata": {
        "id": "Oxk0k1dz8mVM"
      },
      "id": "Oxk0k1dz8mVM"
    },
    {
      "cell_type": "markdown",
      "source": [
        "\n",
        "\n",
        "\n",
        "\n",
        "Now, we want to see token distribution in our dataset. We want to see token distribution for each positive and negative labels. We will split sentences by whitespaces and count total tokens by len() function."
      ],
      "metadata": {
        "id": "OPYo2ZQhEXa3"
      },
      "id": "OPYo2ZQhEXa3"
    },
    {
      "cell_type": "code",
      "source": [
        "from tqdm import tqdm # import tqdm\n",
        "tqdm.pandas()\n",
        "df['token_length'] = df.review.progress_apply(lambda x: len(x.split()))"
      ],
      "metadata": {
        "colab": {
          "base_uri": "https://localhost:8080/"
        },
        "id": "ejniKtCt8Ljq",
        "outputId": "ad077cf7-7f17-4fa2-f6f5-a3c53be6f318"
      },
      "id": "ejniKtCt8Ljq",
      "execution_count": null,
      "outputs": [
        {
          "output_type": "stream",
          "name": "stderr",
          "text": [
            "100%|██████████| 50000/50000 [00:00<00:00, 60193.85it/s]\n"
          ]
        }
      ]
    },
    {
      "cell_type": "code",
      "source": [
        "filt_pos = df[df['label'] == 1]\n",
        "filt_pos['token_length'].describe()"
      ],
      "metadata": {
        "colab": {
          "base_uri": "https://localhost:8080/"
        },
        "id": "9aBYFwkDEloX",
        "outputId": "d2b17012-fecd-46e5-809e-d1fb3f52579c"
      },
      "id": "9aBYFwkDEloX",
      "execution_count": null,
      "outputs": [
        {
          "output_type": "execute_result",
          "data": {
            "text/plain": [
              "count    25000.000000\n",
              "mean       232.849320\n",
              "std        177.497046\n",
              "min         10.000000\n",
              "25%        125.000000\n",
              "50%        172.000000\n",
              "75%        284.000000\n",
              "max       2470.000000\n",
              "Name: token_length, dtype: float64"
            ]
          },
          "metadata": {},
          "execution_count": 31
        }
      ]
    },
    {
      "cell_type": "markdown",
      "source": [
        "For positive reviews, we have maximum token 2470 and minimum token 10. While the average token is 232"
      ],
      "metadata": {
        "id": "tto7oFL5FFEH"
      },
      "id": "tto7oFL5FFEH"
    },
    {
      "cell_type": "code",
      "source": [
        "filt_neg = df[df['label'] == 0]\n",
        "filt_neg['token_length'].describe()"
      ],
      "metadata": {
        "colab": {
          "base_uri": "https://localhost:8080/"
        },
        "id": "dlwTip5dE4qE",
        "outputId": "4dfe21b5-98d3-42eb-ece6-056f3ebd58f0"
      },
      "id": "dlwTip5dE4qE",
      "execution_count": null,
      "outputs": [
        {
          "output_type": "execute_result",
          "data": {
            "text/plain": [
              "count    25000.000000\n",
              "mean       229.464560\n",
              "std        164.947795\n",
              "min          4.000000\n",
              "25%        128.000000\n",
              "50%        174.000000\n",
              "75%        278.000000\n",
              "max       1522.000000\n",
              "Name: token_length, dtype: float64"
            ]
          },
          "metadata": {},
          "execution_count": 32
        }
      ]
    },
    {
      "cell_type": "markdown",
      "source": [
        "And for negative reviews, we have maximum and minimum token respectively 1522 and 4. While the average token is 229."
      ],
      "metadata": {
        "id": "bFReJIU7FKOJ"
      },
      "id": "bFReJIU7FKOJ"
    },
    {
      "cell_type": "code",
      "source": [
        "# Distribution of tokenized negative setiments\n",
        "plt.figure(figsize=(5, 8))\n",
        "sns.displot(filt_pos, x='token_length')\n",
        "plt.title('Positive Token Length Distribution')\n",
        "plt.show();"
      ],
      "metadata": {
        "colab": {
          "base_uri": "https://localhost:8080/",
          "height": 402
        },
        "id": "kEZCIjWyFbcI",
        "outputId": "bf5716b0-a561-483c-e341-5ec9ea3b4645"
      },
      "id": "kEZCIjWyFbcI",
      "execution_count": null,
      "outputs": [
        {
          "output_type": "display_data",
          "data": {
            "text/plain": [
              "<Figure size 360x576 with 0 Axes>"
            ]
          },
          "metadata": {}
        },
        {
          "output_type": "display_data",
          "data": {
            "text/plain": [
              "<Figure size 360x360 with 1 Axes>"
            ],
            "image/png": "[encoded data removed]"
          },
          "metadata": {
            "needs_background": "light"
          }
        }
      ]
    },
    {
      "cell_type": "code",
      "source": [
        "# Distribution of tokenized negative setiments\n",
        "plt.figure(figsize=(5, 8))\n",
        "sns.displot(filt_neg, x='token_length')\n",
        "plt.title('Negative Token Lenght Distribution')\n",
        "plt.show();"
      ],
      "metadata": {
        "colab": {
          "base_uri": "https://localhost:8080/",
          "height": 402
        },
        "id": "z5mMgW3yGhWy",
        "outputId": "9801083c-9514-49dd-b68a-9547f89a4c5a"
      },
      "id": "z5mMgW3yGhWy",
      "execution_count": null,
      "outputs": [
        {
          "output_type": "display_data",
          "data": {
            "text/plain": [
              "<Figure size 360x576 with 0 Axes>"
            ]
          },
          "metadata": {}
        },
        {
          "output_type": "display_data",
          "data": {
            "text/plain": [
              "<Figure size 360x360 with 1 Axes>"
            ],
            "image/png": "[encoded data removed]"
          },
          "metadata": {
            "needs_background": "light"
          }
        }
      ]
    },
    {
      "cell_type": "markdown",
      "source": [
        "# XG BOOST"
      ],
      "metadata": {
        "id": "ggqHxFgcPsfV"
      },
      "id": "ggqHxFgcPsfV"
    },
    {
      "cell_type": "markdown",
      "source": [
        "THE PREPROCESSING"
      ],
      "metadata": {
        "id": "MFZRlRNMPcAH"
      },
      "id": "MFZRlRNMPcAH"
    },
    {
      "cell_type": "code",
      "source": [
        "from sklearn.feature_extraction.text import CountVectorizer\n",
        "import gensim"
      ],
      "metadata": {
        "id": "Q1C-dzmeKZq-"
      },
      "id": "Q1C-dzmeKZq-",
      "execution_count": null,
      "outputs": []
    },
    {
      "cell_type": "code",
      "source": [
        "# building a model classification matrix\n",
        "bow_vectoriser = CountVectorizer(max_df = 0.90, min_df = 2, max_features = 10000, stop_words = 'english')\n",
        "bow = bow_vectoriser.fit_transform(df['clean_review'])\n",
        "bow.shape"
      ],
      "metadata": {
        "colab": {
          "base_uri": "https://localhost:8080/"
        },
        "id": "GU5ndsgDKZup",
        "outputId": "123f83b0-0521-40fe-f811-9ca48d47c07c"
      },
      "id": "GU5ndsgDKZup",
      "execution_count": null,
      "outputs": [
        {
          "output_type": "execute_result",
          "data": {
            "text/plain": [
              "(50000, 10000)"
            ]
          },
          "metadata": {},
          "execution_count": 36
        }
      ]
    },
    {
      "cell_type": "code",
      "source": [
        "# extracting train and test bow features\n",
        "train_bow = bow[:50000,:]\n",
        "test_bow = bow[50000:,:]"
      ],
      "metadata": {
        "id": "WCJ2lUxgKZwZ"
      },
      "id": "WCJ2lUxgKZwZ",
      "execution_count": null,
      "outputs": []
    },
    {
      "cell_type": "code",
      "source": [
        "# splitting data into test and validation sets\n",
        "x_train_bow, x_valid_bow, y_train, y_test = train_test_split(train_bow, df['sentiment'], test_size=0.25)"
      ],
      "metadata": {
        "id": "Y2Czkz7oKZx3"
      },
      "id": "Y2Czkz7oKZx3",
      "execution_count": null,
      "outputs": []
    },
    {
      "cell_type": "code",
      "source": [
        "# XGb Classifier\n",
        "from xgboost import XGBClassifier"
      ],
      "metadata": {
        "id": "5jL1VN29KZ0r"
      },
      "id": "5jL1VN29KZ0r",
      "execution_count": null,
      "outputs": []
    },
    {
      "cell_type": "code",
      "source": [
        "xgb_model = XGBClassifier(max_depth = 15, n_estimators = 30)"
      ],
      "metadata": {
        "id": "-ZdTAK1fWbuv"
      },
      "id": "-ZdTAK1fWbuv",
      "execution_count": null,
      "outputs": []
    },
    {
      "cell_type": "code",
      "source": [
        "xgb_model.fit(x_train_bow, y_train)"
      ],
      "metadata": {
        "colab": {
          "base_uri": "https://localhost:8080/"
        },
        "id": "9Yr-6hHWZwWb",
        "outputId": "a5a7fb32-0c50-4374-aeb0-3e4f00680218"
      },
      "id": "9Yr-6hHWZwWb",
      "execution_count": null,
      "outputs": [
        {
          "output_type": "execute_result",
          "data": {
            "text/plain": [
              "XGBClassifier(max_depth=15, n_estimators=30)"
            ]
          },
          "metadata": {},
          "execution_count": 41
        }
      ]
    },
    {
      "cell_type": "code",
      "source": [
        "xgb_predict = xgb_model.predict(x_valid_bow)"
      ],
      "metadata": {
        "id": "6C3MIxqPeFHk"
      },
      "id": "6C3MIxqPeFHk",
      "execution_count": null,
      "outputs": []
    },
    {
      "cell_type": "code",
      "source": [
        "from sklearn.metrics import classification_report, confusion_matrix"
      ],
      "metadata": {
        "id": "vyU4qjTnimom"
      },
      "id": "vyU4qjTnimom",
      "execution_count": null,
      "outputs": []
    },
    {
      "cell_type": "code",
      "source": [
        "cm = confusion_matrix(y_test, xgb_predict)\n",
        "#plt.figure(figsize=(5,5))\n",
        "sns.heatmap(cm, annot=True, fmt='g')\n",
        "plt.title('Confusion Matrix')\n",
        "plt.show()"
      ],
      "metadata": {
        "colab": {
          "base_uri": "https://localhost:8080/",
          "height": 281
        },
        "id": "Y2AIG_I8lulD",
        "outputId": "961b40ab-3d5e-4d0e-e0d9-7cb68debe4f2"
      },
      "id": "Y2AIG_I8lulD",
      "execution_count": null,
      "outputs": [
        {
          "output_type": "display_data",
          "data": {
            "text/plain": [
              "<Figure size 432x288 with 2 Axes>"
            ],
            "image/png": "[encoded data removed]"
          },
          "metadata": {
            "needs_background": "light"
          }
        }
      ]
    },
    {
      "cell_type": "code",
      "source": [
        "print(classification_report(y_test, xgb_predict))"
      ],
      "metadata": {
        "colab": {
          "base_uri": "https://localhost:8080/"
        },
        "id": "kyxrft9si6iU",
        "outputId": "579b4d35-4af8-4322-c0bf-c81dc770b155"
      },
      "id": "kyxrft9si6iU",
      "execution_count": null,
      "outputs": [
        {
          "output_type": "stream",
          "name": "stdout",
          "text": [
            "              precision    recall  f1-score   support\n",
            "\n",
            "    negative       0.83      0.77      0.80      6198\n",
            "    positive       0.79      0.84      0.81      6302\n",
            "\n",
            "    accuracy                           0.80     12500\n",
            "   macro avg       0.81      0.80      0.80     12500\n",
            "weighted avg       0.81      0.80      0.80     12500\n",
            "\n"
          ]
        }
      ]
    },
    {
      "cell_type": "markdown",
      "source": [
        "# LSTM"
      ],
      "metadata": {
        "id": "648RbwHS32vt"
      },
      "id": "648RbwHS32vt"
    },
    {
      "cell_type": "markdown",
      "source": [
        "THE PREPROCESSING"
      ],
      "metadata": {
        "id": "Gj2EFWH2RCmK"
      },
      "id": "Gj2EFWH2RCmK"
    },
    {
      "cell_type": "markdown",
      "source": [
        "The reviews and sentiments must then be converted to NumPy arrays because the preprocessing techniques prefer arrays over pandas series:"
      ],
      "metadata": {
        "id": "V0pjeNKJoSBQ"
      },
      "id": "V0pjeNKJoSBQ"
    },
    {
      "cell_type": "code",
      "execution_count": null,
      "id": "48413208",
      "metadata": {
        "execution": {
          "iopub.execute_input": "2022-12-16T12:22:30.868741Z",
          "iopub.status.busy": "2022-12-16T12:22:30.868316Z",
          "iopub.status.idle": "2022-12-16T12:22:30.874039Z",
          "shell.execute_reply": "2022-12-16T12:22:30.872983Z"
        },
        "id": "48413208",
        "papermill": {
          "duration": 0.019432,
          "end_time": "2022-12-16T12:22:30.876600",
          "exception": false,
          "start_time": "2022-12-16T12:22:30.857168",
          "status": "completed"
        },
        "tags": []
      },
      "outputs": [],
      "source": [
        "# converting the reviews and sentiments to NumPy arrays, since the preprocessing methods favor arrays instead of pandas series\n",
        "sentences = df['clean_review'].to_numpy()\n",
        "labels = df['label'].to_numpy()"
      ]
    },
    {
      "cell_type": "markdown",
      "source": [
        "I must divide our dataset into training and test instances before performing any preprocessing. Seventy Five percent of the data will be used for training, and twenty five percent for testing as seen in he line of code below"
      ],
      "metadata": {
        "id": "YwWsfy-_oa-v"
      },
      "id": "YwWsfy-_oa-v"
    },
    {
      "cell_type": "code",
      "execution_count": null,
      "id": "20dbe04c",
      "metadata": {
        "execution": {
          "iopub.execute_input": "2022-12-16T12:22:30.916216Z",
          "iopub.status.busy": "2022-12-16T12:22:30.915793Z",
          "iopub.status.idle": "2022-12-16T12:22:30.928206Z",
          "shell.execute_reply": "2022-12-16T12:22:30.927194Z"
        },
        "id": "20dbe04c",
        "papermill": {
          "duration": 0.026338,
          "end_time": "2022-12-16T12:22:30.931435",
          "exception": false,
          "start_time": "2022-12-16T12:22:30.905097",
          "status": "completed"
        },
        "tags": []
      },
      "outputs": [],
      "source": [
        "# splitting the dataset into test and train\n",
        "x_train, x_test, y_train, y_test = train_test_split(sentences, labels, test_size=0.25)"
      ]
    },
    {
      "cell_type": "markdown",
      "source": [
        "I must translate text data (reviews) into numeric values in order to construct a mathematical model.  This is called  Tokenization, and this is done on the complete text corpus, which includes all training data, for the majority of NLP projects.\n",
        "\n",
        "Sentences are divided into a collection of individual words during the tokenization process, and statistical characteristics are computed for each word, including:\n",
        "-word counts: Defines the vocabulary that is currently present in the corpus of text. The number of times a word appears in the text corpus is linked to each individual term\n",
        "-Words in the text corpus are represented by word docs, which is a dictionary. Each term in the text corpus has a corresponding number of sentences that contain it.\n",
        "-Each term in the word dictionary has a specific index, which is called word index.\n",
        "-document count: Indicates how many sentences (documents) there are in the corpus of text.\n",
        "\n",
        "I must define the vocabulary size in order to tokenize the training data.vocabulary size is the total number of words that may be obtained by ranking each word's frequency of use from lowest to highest.\n",
        "\n",
        "In this case, I only use the first 10,000 words that appear in the training dataset. Additionally, I have set oov_tok to \"< OOV >,\" which will substitute for any unidentified words in the corpus of text."
      ],
      "metadata": {
        "id": "2Rm9c-_fom7X"
      },
      "id": "2Rm9c-_fom7X"
    },
    {
      "cell_type": "code",
      "execution_count": null,
      "id": "359c77cb",
      "metadata": {
        "execution": {
          "iopub.execute_input": "2022-12-16T12:22:30.972265Z",
          "iopub.status.busy": "2022-12-16T12:22:30.971018Z",
          "iopub.status.idle": "2022-12-16T12:22:30.976843Z",
          "shell.execute_reply": "2022-12-16T12:22:30.975780Z"
        },
        "id": "359c77cb",
        "papermill": {
          "duration": 0.0191,
          "end_time": "2022-12-16T12:22:30.979372",
          "exception": false,
          "start_time": "2022-12-16T12:22:30.960272",
          "status": "completed"
        },
        "tags": []
      },
      "outputs": [],
      "source": [
        "# tokenizing the textual words\n",
        "vocab_size = 10000\n",
        "oov_tok = \"<OOV>\"\n",
        "tokenizer = Tokenizer(num_words=vocab_size, oov_token=oov_tok)"
      ]
    },
    {
      "cell_type": "markdown",
      "source": [
        "After defining the hyperparameters for Tokenizer(), I use fit on texts() to fit it into the training data:"
      ],
      "metadata": {
        "id": "k_x8FUhto3nE"
      },
      "id": "k_x8FUhto3nE"
    },
    {
      "cell_type": "code",
      "execution_count": null,
      "id": "afd523b1",
      "metadata": {
        "execution": {
          "iopub.execute_input": "2022-12-16T12:22:31.018744Z",
          "iopub.status.busy": "2022-12-16T12:22:31.018300Z",
          "iopub.status.idle": "2022-12-16T12:22:40.251611Z",
          "shell.execute_reply": "2022-12-16T12:22:40.250085Z"
        },
        "id": "afd523b1",
        "papermill": {
          "duration": 9.247117,
          "end_time": "2022-12-16T12:22:40.254702",
          "exception": false,
          "start_time": "2022-12-16T12:22:31.007585",
          "status": "completed"
        },
        "tags": []
      },
      "outputs": [],
      "source": [
        "# fitting the tokenized hyperparameters to the training data\n",
        "tokenizer.fit_on_texts(x_train)"
      ]
    },
    {
      "cell_type": "markdown",
      "source": [
        "After the text corpus has been tokenized, I used the tokenizer to change each review to a numeric sequence:"
      ],
      "metadata": {
        "id": "83OF1PFspa70"
      },
      "id": "83OF1PFspa70"
    },
    {
      "cell_type": "code",
      "execution_count": null,
      "id": "ccc023c1",
      "metadata": {
        "execution": {
          "iopub.execute_input": "2022-12-16T12:22:40.658502Z",
          "iopub.status.busy": "2022-12-16T12:22:40.657741Z",
          "iopub.status.idle": "2022-12-16T12:22:47.316204Z",
          "shell.execute_reply": "2022-12-16T12:22:47.314802Z"
        },
        "id": "ccc023c1",
        "papermill": {
          "duration": 6.67609,
          "end_time": "2022-12-16T12:22:47.318738",
          "exception": false,
          "start_time": "2022-12-16T12:22:40.642648",
          "status": "completed"
        },
        "tags": []
      },
      "outputs": [],
      "source": [
        "# converting each review into a numeric sequence using the tokenizer\n",
        "train_sequences = tokenizer.texts_to_sequences(x_train)"
      ]
    },
    {
      "cell_type": "markdown",
      "source": [
        "With the objective of training the mathematical model, each review of the training data is transformed into a numerical sequence.\n",
        "Each review's content, however, has a varied word length, which will result in varying lengths for the numeric sequence compared to other reviews.\n",
        "Therefore, I must restrict the sequence lengths for each review to a fixed value. For each review, I will establish a sequence length of 200 words.\n",
        "The end of numerical sequences longer than 200 will be truncated, whereas the end of sequences less than 200 will be padded with zeros.\n",
        "\n",
        "For numeric sequences in reviews, I now defined a sequence padding."
      ],
      "metadata": {
        "id": "tQR48CiDpiQY"
      },
      "id": "tQR48CiDpiQY"
    },
    {
      "cell_type": "code",
      "execution_count": null,
      "id": "34c74b4f",
      "metadata": {
        "execution": {
          "iopub.execute_input": "2022-12-16T12:22:47.373705Z",
          "iopub.status.busy": "2022-12-16T12:22:47.372475Z",
          "iopub.status.idle": "2022-12-16T12:22:47.854382Z",
          "shell.execute_reply": "2022-12-16T12:22:47.853064Z"
        },
        "id": "34c74b4f",
        "papermill": {
          "duration": 0.499136,
          "end_time": "2022-12-16T12:22:47.857294",
          "exception": false,
          "start_time": "2022-12-16T12:22:47.358158",
          "status": "completed"
        },
        "tags": []
      },
      "outputs": [],
      "source": [
        "# specifying a sequence length of 200 words for each review\n",
        "sequence_length = 200\n",
        "train_padded = pad_sequences(train_sequences, maxlen=sequence_length, padding='post', truncating='post')"
      ]
    },
    {
      "cell_type": "markdown",
      "source": [
        "After pre-processing the training data, I must follow the identical procedures for the test data:"
      ],
      "metadata": {
        "id": "B6_gHL5rqwNh"
      },
      "id": "B6_gHL5rqwNh"
    },
    {
      "cell_type": "code",
      "execution_count": null,
      "id": "4ebf8ad2",
      "metadata": {
        "execution": {
          "iopub.execute_input": "2022-12-16T12:22:47.913010Z",
          "iopub.status.busy": "2022-12-16T12:22:47.912544Z",
          "iopub.status.idle": "2022-12-16T12:22:49.994970Z",
          "shell.execute_reply": "2022-12-16T12:22:49.993972Z"
        },
        "id": "4ebf8ad2",
        "papermill": {
          "duration": 2.09933,
          "end_time": "2022-12-16T12:22:49.997575",
          "exception": false,
          "start_time": "2022-12-16T12:22:47.898245",
          "status": "completed"
        },
        "tags": []
      },
      "outputs": [],
      "source": [
        "# repeating the above process for the test data\n",
        "test_sequences = tokenizer.texts_to_sequences(x_test)\n",
        "test_padded = pad_sequences(test_sequences, maxlen=sequence_length, padding='post', truncating='post')"
      ]
    },
    {
      "cell_type": "markdown",
      "id": "4e6b0922",
      "metadata": {
        "id": "4e6b0922",
        "papermill": {
          "duration": 0.012981,
          "end_time": "2022-12-16T12:22:50.049258",
          "exception": false,
          "start_time": "2022-12-16T12:22:50.036277",
          "status": "completed"
        },
        "tags": []
      },
      "source": [
        "## 2. LSTM Model for Sentiment Analysis\n"
      ]
    },
    {
      "cell_type": "markdown",
      "source": [
        "I have completed the review preparation steps of padding, sequence conversion, and tokenization.\n",
        "I will now proceed with creating the sentiment analysis LSTM model."
      ],
      "metadata": {
        "id": "wuj8QIVyrZFu"
      },
      "id": "wuj8QIVyrZFu"
    },
    {
      "cell_type": "code",
      "execution_count": null,
      "id": "0a448ffb",
      "metadata": {
        "execution": {
          "iopub.execute_input": "2022-12-16T12:22:50.078034Z",
          "iopub.status.busy": "2022-12-16T12:22:50.077284Z",
          "iopub.status.idle": "2022-12-16T12:22:50.141392Z",
          "shell.execute_reply": "2022-12-16T12:22:50.140103Z"
        },
        "id": "0a448ffb",
        "papermill": {
          "duration": 0.081411,
          "end_time": "2022-12-16T12:22:50.143794",
          "exception": false,
          "start_time": "2022-12-16T12:22:50.062383",
          "status": "completed"
        },
        "tags": []
      },
      "outputs": [],
      "source": [
        "# declearing the model type\n",
        "model = Sequential()"
      ]
    },
    {
      "cell_type": "markdown",
      "id": "bfa975fd",
      "metadata": {
        "id": "bfa975fd",
        "papermill": {
          "duration": 0.012699,
          "end_time": "2022-12-16T12:22:50.169653",
          "exception": false,
          "start_time": "2022-12-16T12:22:50.156954",
          "status": "completed"
        },
        "tags": []
      },
      "source": [
        "I will start by adding an embedding layer, which will transform each word into a dense vector with embedding dimensions determined by the layer's hyperparameters:"
      ]
    },
    {
      "cell_type": "code",
      "execution_count": null,
      "id": "d136fc9f",
      "metadata": {
        "execution": {
          "iopub.execute_input": "2022-12-16T12:22:50.197786Z",
          "iopub.status.busy": "2022-12-16T12:22:50.196942Z",
          "iopub.status.idle": "2022-12-16T12:22:50.325483Z",
          "shell.execute_reply": "2022-12-16T12:22:50.324149Z"
        },
        "id": "d136fc9f",
        "papermill": {
          "duration": 0.14557,
          "end_time": "2022-12-16T12:22:50.328199",
          "exception": false,
          "start_time": "2022-12-16T12:22:50.182629",
          "status": "completed"
        },
        "tags": []
      },
      "outputs": [],
      "source": [
        "# adding an embedding layer\n",
        "embedding_dim = 16\n",
        "model.add(Embedding(vocab_size, embedding_dim, input_length=sequence_length))"
      ]
    },
    {
      "cell_type": "markdown",
      "id": "4d158830",
      "metadata": {
        "id": "4d158830",
        "papermill": {
          "duration": 0.012517,
          "end_time": "2022-12-16T12:22:50.353746",
          "exception": false,
          "start_time": "2022-12-16T12:22:50.341229",
          "status": "completed"
        },
        "tags": []
      },
      "source": [
        "Next, I will define the LSTM layer with a chosen unit size and the Bidirectional() layer.\n",
        "\n",
        "The fact that bi-directional LSTM recalls the output from the past to the future as well as from the future to the past is one of its benefits. For time series analysis, this method may produce more reliable models."
      ]
    },
    {
      "cell_type": "code",
      "execution_count": null,
      "id": "90036838",
      "metadata": {
        "execution": {
          "iopub.execute_input": "2022-12-16T12:22:50.381729Z",
          "iopub.status.busy": "2022-12-16T12:22:50.380847Z",
          "iopub.status.idle": "2022-12-16T12:22:50.972403Z",
          "shell.execute_reply": "2022-12-16T12:22:50.971323Z"
        },
        "id": "90036838",
        "papermill": {
          "duration": 0.608499,
          "end_time": "2022-12-16T12:22:50.975245",
          "exception": false,
          "start_time": "2022-12-16T12:22:50.366746",
          "status": "completed"
        },
        "tags": []
      },
      "outputs": [],
      "source": [
        "# defining the LSTM layer with a chosen unit size\n",
        "lstm_out = 32\n",
        "model.add(Bidirectional(LSTM(lstm_out)))"
      ]
    },
    {
      "cell_type": "markdown",
      "id": "b63e6455",
      "metadata": {
        "id": "b63e6455",
        "papermill": {
          "duration": 0.014223,
          "end_time": "2022-12-16T12:22:51.003835",
          "exception": false,
          "start_time": "2022-12-16T12:22:50.989612",
          "status": "completed"
        },
        "tags": []
      },
      "source": [
        "I will then add an output layer with only one unit and a \"sigmoid\" activation after specifying a fully linked layer with 10 units and a \"relu\" activation. This layer will show the likelihood that a given input falls to category 1. (or positive)."
      ]
    },
    {
      "cell_type": "code",
      "execution_count": null,
      "id": "26dc55d7",
      "metadata": {
        "execution": {
          "iopub.execute_input": "2022-12-16T12:22:51.033365Z",
          "iopub.status.busy": "2022-12-16T12:22:51.032866Z",
          "iopub.status.idle": "2022-12-16T12:22:51.056429Z",
          "shell.execute_reply": "2022-12-16T12:22:51.055201Z"
        },
        "id": "26dc55d7",
        "papermill": {
          "duration": 0.041157,
          "end_time": "2022-12-16T12:22:51.059371",
          "exception": false,
          "start_time": "2022-12-16T12:22:51.018214",
          "status": "completed"
        },
        "tags": [],
        "colab": {
          "base_uri": "https://localhost:8080/"
        },
        "outputId": "6c2ee83f-2f34-477f-9b64-8fdf79e838cc"
      },
      "outputs": [
        {
          "output_type": "stream",
          "name": "stdout",
          "text": [
            "Model: \"sequential\"\n",
            "_________________________________________________________________\n",
            " Layer (type)                Output Shape              Param #   \n",
            "=================================================================\n",
            " embedding (Embedding)       (None, 200, 16)           160000    \n",
            "                                                                 \n",
            " bidirectional (Bidirectiona  (None, 64)               12544     \n",
            " l)                                                              \n",
            "                                                                 \n",
            " dense (Dense)               (None, 10)                650       \n",
            "                                                                 \n",
            " dense_1 (Dense)             (None, 1)                 11        \n",
            "                                                                 \n",
            "=================================================================\n",
            "Total params: 173,205\n",
            "Trainable params: 173,205\n",
            "Non-trainable params: 0\n",
            "_________________________________________________________________\n",
            "None\n"
          ]
        }
      ],
      "source": [
        "# adding an output layer\n",
        "model.add(Dense(10, activation='relu'))\n",
        "model.add(Dense(1, activation='sigmoid'))\n",
        "\n",
        "print(model.summary())"
      ]
    },
    {
      "cell_type": "markdown",
      "id": "ab15b499",
      "metadata": {
        "id": "ab15b499",
        "papermill": {
          "duration": 0.013052,
          "end_time": "2022-12-16T12:22:51.085838",
          "exception": false,
          "start_time": "2022-12-16T12:22:51.072786",
          "status": "completed"
        },
        "tags": []
      },
      "source": [
        "I now compile the model and show its summary:"
      ]
    },
    {
      "cell_type": "code",
      "execution_count": null,
      "id": "b4fd617c",
      "metadata": {
        "execution": {
          "iopub.execute_input": "2022-12-16T12:22:51.115005Z",
          "iopub.status.busy": "2022-12-16T12:22:51.113616Z",
          "iopub.status.idle": "2022-12-16T12:22:51.133938Z",
          "shell.execute_reply": "2022-12-16T12:22:51.131778Z"
        },
        "id": "b4fd617c",
        "papermill": {
          "duration": 0.037705,
          "end_time": "2022-12-16T12:22:51.136775",
          "exception": false,
          "start_time": "2022-12-16T12:22:51.099070",
          "status": "completed"
        },
        "tags": []
      },
      "outputs": [],
      "source": [
        "# compiling the model\n",
        "model.compile(loss='binary_crossentropy', optimizer='adam', metrics=['accuracy'])"
      ]
    },
    {
      "cell_type": "markdown",
      "id": "9aacd108",
      "metadata": {
        "id": "9aacd108",
        "papermill": {
          "duration": 0.013032,
          "end_time": "2022-12-16T12:22:51.163384",
          "exception": false,
          "start_time": "2022-12-16T12:22:51.150352",
          "status": "completed"
        },
        "tags": []
      },
      "source": [
        "Assuming I defined 5 epochs and our model converged to minimum validation loss after only 2. The model will likely get overfit to the training data during the final 3 epochs.\n",
        "\n",
        "I prevented this by supplying the EarlyStopping() callback, which will halt model training if the model is unable to reduce the validation loss value after the callback's given number of epochs.\n",
        "\n",
        "\n"
      ]
    },
    {
      "cell_type": "code",
      "execution_count": null,
      "id": "a202b72d",
      "metadata": {
        "execution": {
          "iopub.execute_input": "2022-12-16T12:22:51.192339Z",
          "iopub.status.busy": "2022-12-16T12:22:51.191902Z",
          "iopub.status.idle": "2022-12-16T12:22:51.198184Z",
          "shell.execute_reply": "2022-12-16T12:22:51.196937Z"
        },
        "id": "a202b72d",
        "papermill": {
          "duration": 0.023583,
          "end_time": "2022-12-16T12:22:51.200482",
          "exception": false,
          "start_time": "2022-12-16T12:22:51.176899",
          "status": "completed"
        },
        "tags": []
      },
      "outputs": [],
      "source": [
        "checkpoint_filepath = os.getcwd()\n",
        "model_checkpoint_callback = ModelCheckpoint(filepath=checkpoint_filepath, save_weights_only=False, monitor='val_loss', mode='min', save_best_only=True)\n",
        "callbacks = [EarlyStopping(patience=2), model_checkpoint_callback]"
      ]
    },
    {
      "cell_type": "code",
      "execution_count": null,
      "id": "d0461c45",
      "metadata": {
        "execution": {
          "iopub.execute_input": "2022-12-16T12:22:51.228853Z",
          "iopub.status.busy": "2022-12-16T12:22:51.228447Z",
          "iopub.status.idle": "2022-12-16T12:39:11.814525Z",
          "shell.execute_reply": "2022-12-16T12:39:11.813464Z"
        },
        "id": "d0461c45",
        "outputId": "2e5fb0d0-9b48-4033-ad30-21fe3ab88bef",
        "papermill": {
          "duration": 980.603369,
          "end_time": "2022-12-16T12:39:11.817189",
          "exception": false,
          "start_time": "2022-12-16T12:22:51.213820",
          "status": "completed"
        },
        "tags": [],
        "colab": {
          "base_uri": "https://localhost:8080/"
        }
      },
      "outputs": [
        {
          "output_type": "stream",
          "name": "stdout",
          "text": [
            "Epoch 1/5\n",
            "1172/1172 [==============================] - ETA: 0s - loss: 0.4110 - accuracy: 0.8095"
          ]
        },
        {
          "output_type": "stream",
          "name": "stderr",
          "text": [
            "WARNING:absl:Found untraced functions such as lstm_cell_1_layer_call_fn, lstm_cell_1_layer_call_and_return_conditional_losses, lstm_cell_2_layer_call_fn, lstm_cell_2_layer_call_and_return_conditional_losses while saving (showing 4 of 4). These functions will not be directly callable after loading.\n"
          ]
        },
        {
          "output_type": "stream",
          "name": "stdout",
          "text": [
            "\b\b\b\b\b\b\b\b\b\b\b\b\b\b\b\b\b\b\b\b\b\b\b\b\b\b\b\b\b\b\b\b\b\b\b\b\b\b\b\b\b\b\b\b\b\b\b\b\b\b\b\b\b\b\b\b\b\b\b\b\b\b\b\b\b\b\b\b\b\b\b\b\b\b\b\b\b\b\b\b\b\b\b\b\b\b\r1172/1172 [==============================] - 174s 145ms/step - loss: 0.4110 - accuracy: 0.8095 - val_loss: 0.3266 - val_accuracy: 0.8570\n",
            "Epoch 2/5\n",
            "1172/1172 [==============================] - ETA: 0s - loss: 0.2675 - accuracy: 0.8961"
          ]
        },
        {
          "output_type": "stream",
          "name": "stderr",
          "text": [
            "WARNING:absl:Found untraced functions such as lstm_cell_1_layer_call_fn, lstm_cell_1_layer_call_and_return_conditional_losses, lstm_cell_2_layer_call_fn, lstm_cell_2_layer_call_and_return_conditional_losses while saving (showing 4 of 4). These functions will not be directly callable after loading.\n"
          ]
        },
        {
          "output_type": "stream",
          "name": "stdout",
          "text": [
            "\b\b\b\b\b\b\b\b\b\b\b\b\b\b\b\b\b\b\b\b\b\b\b\b\b\b\b\b\b\b\b\b\b\b\b\b\b\b\b\b\b\b\b\b\b\b\b\b\b\b\b\b\b\b\b\b\b\b\b\b\b\b\b\b\b\b\b\b\b\b\b\b\b\b\b\b\b\b\b\b\b\b\b\b\b\b\r1172/1172 [==============================] - 172s 146ms/step - loss: 0.2675 - accuracy: 0.8961 - val_loss: 0.3032 - val_accuracy: 0.8760\n",
            "Epoch 3/5\n",
            "1172/1172 [==============================] - 156s 133ms/step - loss: 0.2208 - accuracy: 0.9154 - val_loss: 0.3740 - val_accuracy: 0.8690\n",
            "Epoch 4/5\n",
            "1172/1172 [==============================] - 164s 140ms/step - loss: 0.1920 - accuracy: 0.9285 - val_loss: 0.3670 - val_accuracy: 0.8667\n"
          ]
        }
      ],
      "source": [
        "history = model.fit(train_padded, y_train, epochs=5, validation_data=(test_padded, y_test), callbacks=callbacks)"
      ]
    },
    {
      "cell_type": "code",
      "execution_count": null,
      "id": "efa632b5",
      "metadata": {
        "execution": {
          "iopub.execute_input": "2022-12-16T12:39:12.466241Z",
          "iopub.status.busy": "2022-12-16T12:39:12.465462Z",
          "iopub.status.idle": "2022-12-16T12:39:12.475075Z",
          "shell.execute_reply": "2022-12-16T12:39:12.473902Z"
        },
        "id": "efa632b5",
        "outputId": "2cf08750-6ea8-4036-f71d-879a190dd270",
        "papermill": {
          "duration": 0.334606,
          "end_time": "2022-12-16T12:39:12.477470",
          "exception": false,
          "start_time": "2022-12-16T12:39:12.142864",
          "status": "completed"
        },
        "tags": [],
        "colab": {
          "base_uri": "https://localhost:8080/"
        }
      },
      "outputs": [
        {
          "output_type": "stream",
          "name": "stdout",
          "text": [
            "       loss  accuracy  val_loss  val_accuracy\n",
            "0  0.411022  0.809467  0.326637       0.85704\n",
            "1  0.267453  0.896053  0.303200       0.87600\n",
            "2  0.220819  0.915413  0.374032       0.86896\n",
            "3  0.191983  0.928533  0.367019       0.86672\n"
          ]
        }
      ],
      "source": [
        "metrics_df = pd.DataFrame(history.history)\n",
        "print(metrics_df)"
      ]
    },
    {
      "cell_type": "code",
      "execution_count": null,
      "id": "115b1265",
      "metadata": {
        "execution": {
          "iopub.execute_input": "2022-12-16T12:39:13.125831Z",
          "iopub.status.busy": "2022-12-16T12:39:13.125356Z",
          "iopub.status.idle": "2022-12-16T12:39:13.406511Z",
          "shell.execute_reply": "2022-12-16T12:39:13.405265Z"
        },
        "id": "115b1265",
        "outputId": "0631d344-d0df-4383-9555-6089e9f67fa6",
        "papermill": {
          "duration": 0.610051,
          "end_time": "2022-12-16T12:39:13.409288",
          "exception": false,
          "start_time": "2022-12-16T12:39:12.799237",
          "status": "completed"
        },
        "tags": [],
        "colab": {
          "base_uri": "https://localhost:8080/",
          "height": 350
        }
      },
      "outputs": [
        {
          "output_type": "display_data",
          "data": {
            "text/plain": [
              "<Figure size 720x360 with 1 Axes>"
            ],
            "image/png": "[encoded data removed]"
          },
          "metadata": {
            "needs_background": "light"
          }
        }
      ],
      "source": [
        "plt.figure(figsize=(10,5))\n",
        "plt.plot(metrics_df.index, metrics_df.loss)\n",
        "plt.plot(metrics_df.index, metrics_df.val_loss)\n",
        "plt.title('Loss through the epochs')\n",
        "plt.xlabel('Epochs')\n",
        "plt.ylabel('Binary Crossentropy')\n",
        "plt.legend(['Training Loss', 'Validation Loss'])\n",
        "plt.show()"
      ]
    },
    {
      "cell_type": "code",
      "execution_count": null,
      "id": "847610a4",
      "metadata": {
        "execution": {
          "iopub.execute_input": "2022-12-16T12:39:14.115660Z",
          "iopub.status.busy": "2022-12-16T12:39:14.115231Z",
          "iopub.status.idle": "2022-12-16T12:39:14.357191Z",
          "shell.execute_reply": "2022-12-16T12:39:14.355899Z"
        },
        "id": "847610a4",
        "outputId": "39b81173-454f-4bb7-ba4b-558874658ced",
        "papermill": {
          "duration": 0.56745,
          "end_time": "2022-12-16T12:39:14.359753",
          "exception": false,
          "start_time": "2022-12-16T12:39:13.792303",
          "status": "completed"
        },
        "tags": [],
        "colab": {
          "base_uri": "https://localhost:8080/",
          "height": 350
        }
      },
      "outputs": [
        {
          "output_type": "display_data",
          "data": {
            "text/plain": [
              "<Figure size 720x360 with 1 Axes>"
            ],
            "image/png": "[encoded data removed]"
          },
          "metadata": {
            "needs_background": "light"
          }
        }
      ],
      "source": [
        "plt.figure(figsize=(10,5))\n",
        "plt.plot(metrics_df.index, metrics_df.accuracy)\n",
        "plt.plot(metrics_df.index, metrics_df.val_accuracy)\n",
        "plt.title(\"Efficiency through epochs\")\n",
        "plt.xlabel('Epochs')\n",
        "plt.ylabel('Accuracy')\n",
        "plt.legend(['Training Accuracy', 'Validation Accuracy'])\n",
        "plt.show()"
      ]
    },
    {
      "cell_type": "code",
      "execution_count": null,
      "id": "2921bce9",
      "metadata": {
        "execution": {
          "iopub.execute_input": "2022-12-16T12:39:15.000137Z",
          "iopub.status.busy": "2022-12-16T12:39:14.999109Z",
          "iopub.status.idle": "2022-12-16T12:39:15.870672Z",
          "shell.execute_reply": "2022-12-16T12:39:15.869203Z"
        },
        "id": "2921bce9",
        "outputId": "61e8457b-ce2e-481d-f05c-4a317ace2ec3",
        "papermill": {
          "duration": 1.194365,
          "end_time": "2022-12-16T12:39:15.873206",
          "exception": false,
          "start_time": "2022-12-16T12:39:14.678841",
          "status": "completed"
        },
        "tags": [],
        "colab": {
          "base_uri": "https://localhost:8080/"
        }
      },
      "outputs": [
        {
          "output_type": "stream",
          "name": "stdout",
          "text": [
            "1/1 [==============================] - 0s 37ms/step\n",
            "[[0.9729676 ]\n",
            " [0.84732777]]\n"
          ]
        }
      ],
      "source": [
        "sentences =[\"i loved it! highly recommend it to anyone and everyone looking for a great movie to watch.\",\n",
        "            \"I thought this was a wonderful way to spend time\"]\n",
        "\n",
        "sequences = tokenizer.texts_to_sequences(sentences)\n",
        "\n",
        "padded = pad_sequences(sequences, maxlen=sequence_length, padding='post', truncating='post')\n",
        "print (model.predict(padded))\n"
      ]
    }
  ],
  "metadata": {
    "kernelspec": {
      "display_name": "Python 3",
      "language": "python",
      "name": "python3"
    },
    "language_info": {
      "codemirror_mode": {
        "name": "ipython",
        "version": 3
      },
      "file_extension": ".py",
      "mimetype": "text/x-python",
      "name": "python",
      "nbconvert_exporter": "python",
      "pygments_lexer": "ipython3",
      "version": "3.7.12"
    },
    "papermill": {
      "default_parameters": {},
      "duration": 1027.975959,
      "end_time": "2022-12-16T12:39:19.557172",
      "environment_variables": {},
      "exception": null,
      "input_path": "__notebook__.ipynb",
      "output_path": "__notebook__.ipynb",
      "parameters": {},
      "start_time": "2022-12-16T12:22:11.581213",
      "version": "2.3.4"
    },
    "colab": {
      "provenance": []
    }
  },
  "nbformat": 4,
  "nbformat_minor": 5
}